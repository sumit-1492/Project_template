{
 "cells": [
  {
   "cell_type": "code",
   "execution_count": 2,
   "id": "01af2296",
   "metadata": {},
   "outputs": [],
   "source": [
    "import os\n",
    "from datetime import datetime\n",
    "\n",
    "def get_current_time_stamp():\n",
    "    return f\"{datetime.now().strftime('%Y-%m-%d-%H-%M-%S')}\"\n",
    "\n",
    "CURRENT_TIME_STAMP = get_current_time_stamp()\n",
    "ROOT_DIR = os.getcwd()\n",
    "CONFIG_DIR = \"config\"\n",
    "CONFIG_FILE_NAME = \"config.yaml\"\n",
    "\n",
    "CONFIG_FILE_PATH = os.path.join(ROOT_DIR,CONFIG_DIR,CONFIG_FILE_NAME)"
   ]
  },
  {
   "cell_type": "code",
   "execution_count": 3,
   "id": "48d205a6",
   "metadata": {},
   "outputs": [
    {
     "data": {
      "text/plain": [
       "'2023-03-19-22-07-02'"
      ]
     },
     "execution_count": 3,
     "metadata": {},
     "output_type": "execute_result"
    }
   ],
   "source": [
    "CURRENT_TIME_STAMP"
   ]
  },
  {
   "cell_type": "code",
   "execution_count": 4,
   "id": "5bc0e89b",
   "metadata": {},
   "outputs": [
    {
     "data": {
      "text/plain": [
       "'E:\\\\live_project_class\\\\project_template'"
      ]
     },
     "execution_count": 4,
     "metadata": {},
     "output_type": "execute_result"
    }
   ],
   "source": [
    "ROOT_DIR"
   ]
  },
  {
   "cell_type": "code",
   "execution_count": 5,
   "id": "cb34004f",
   "metadata": {},
   "outputs": [
    {
     "data": {
      "text/plain": [
       "'config'"
      ]
     },
     "execution_count": 5,
     "metadata": {},
     "output_type": "execute_result"
    }
   ],
   "source": [
    "CONFIG_DIR"
   ]
  },
  {
   "cell_type": "code",
   "execution_count": 6,
   "id": "700684c2",
   "metadata": {},
   "outputs": [
    {
     "data": {
      "text/plain": [
       "'config.yaml'"
      ]
     },
     "execution_count": 6,
     "metadata": {},
     "output_type": "execute_result"
    }
   ],
   "source": [
    "CONFIG_FILE_NAME"
   ]
  },
  {
   "cell_type": "code",
   "execution_count": 7,
   "id": "bfeaf993",
   "metadata": {},
   "outputs": [
    {
     "data": {
      "text/plain": [
       "'E:\\\\live_project_class\\\\project_template\\\\config\\\\config.yaml'"
      ]
     },
     "execution_count": 7,
     "metadata": {},
     "output_type": "execute_result"
    }
   ],
   "source": [
    "CONFIG_FILE_PATH"
   ]
  },
  {
   "cell_type": "code",
   "execution_count": 31,
   "id": "f0179cda",
   "metadata": {},
   "outputs": [],
   "source": [
    "import sys,yaml\n",
    "def read_yaml_file(file_path:str)->dict:\n",
    "    with open(file_path,\"rb\") as yaml_file:\n",
    "           return yaml.safe_load(yaml_file)"
   ]
  },
  {
   "cell_type": "code",
   "execution_count": 32,
   "id": "176e0773",
   "metadata": {},
   "outputs": [
    {
     "data": {
      "text/plain": [
       "{'training_pipeline_config': {'pipeline': 'visa', 'artifact_dir': 'artifact'},\n",
       " 'data_ingestion_config': {'dataset_download_url': 'https://github.com/Shivan118/Main-Branching/blob/main/Visadataset.csv',\n",
       "  'raw_data_dir': 'raw_data',\n",
       "  'ingested_dir': 'ingested_data',\n",
       "  'ingested_train_dir': 'train',\n",
       "  'ingested_test_dir': 'test'},\n",
       " 'data_validation_config': {'schema_dir': 'config',\n",
       "  'schema_file_dir': 'schema.yaml'}}"
      ]
     },
     "execution_count": 32,
     "metadata": {},
     "output_type": "execute_result"
    }
   ],
   "source": [
    "read_yaml_file(file_path = CONFIG_FILE_PATH) "
   ]
  },
  {
   "cell_type": "code",
   "execution_count": 29,
   "id": "1392dd4e",
   "metadata": {},
   "outputs": [
    {
     "name": "stdout",
     "output_type": "stream",
     "text": [
      "None\n"
     ]
    }
   ],
   "source": [
    "with open(\"E:\\\\live_project_class\\\\project_template\\\\config\\\\config.yaml\",\"rb\") as yaml_file:\n",
    "           print(yaml.safe_load(yaml_file))"
   ]
  },
  {
   "cell_type": "code",
   "execution_count": 34,
   "id": "b44eed93",
   "metadata": {},
   "outputs": [
    {
     "name": "stdout",
     "output_type": "stream",
     "text": [
      "Visadataset.csv \n"
     ]
    }
   ],
   "source": [
    "import os\n",
    "\n",
    "path = \"https://raw.githubusercontent.com/Shivan118/Main-Branching/main/Visadataset.csv \"\n",
    "basename = os.path.basename(path)\n",
    "print(basename)  # Output: 'file.txt'\n"
   ]
  },
  {
   "cell_type": "code",
   "execution_count": null,
   "id": "1c100824",
   "metadata": {},
   "outputs": [],
   "source": []
  }
 ],
 "metadata": {
  "kernelspec": {
   "display_name": "Python 3",
   "language": "python",
   "name": "python3"
  },
  "language_info": {
   "codemirror_mode": {
    "name": "ipython",
    "version": 3
   },
   "file_extension": ".py",
   "mimetype": "text/x-python",
   "name": "python",
   "nbconvert_exporter": "python",
   "pygments_lexer": "ipython3",
   "version": "3.8.8"
  }
 },
 "nbformat": 4,
 "nbformat_minor": 5
}
